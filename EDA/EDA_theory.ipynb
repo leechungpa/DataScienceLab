{
 "cells": [
  {
   "cell_type": "markdown",
   "metadata": {},
   "source": [
    "# EDA\n",
    "\n",
    "연사 : 민형규 선배님\n",
    "\n",
    "정리 : Me"
   ]
  },
  {
   "cell_type": "markdown",
   "metadata": {},
   "source": [
    "## 이론\n",
    "\n",
    "- 배경 분석 -> 일변량 분석 -> 이변량 분석 -> 특수 분석\n",
    "\n",
    "- 기계화된 방법보다는 독특한 아이디어와 새로운 접근법 사용\n",
    "\n",
    "- 항상 직관화 해야 함 : 문장화, 시각화, 수치화"
   ]
  },
  {
   "cell_type": "markdown",
   "metadata": {},
   "source": [
    "## 배경분석\n",
    "\n",
    "프로젝트 배경\n",
    "- 고객 : 무엇을, 왜, 어떻게\n",
    "- 수혜자 : 고객과 수혜자가 일치하지 않을 수 있음\n",
    "- 프로젝트 목적 : 일반적으로 고객과 수혜자의 needs 충족\n",
    "- 분석의 목적 : 데이터를 어떤 방향으로 분석해야 하는지\n",
    "\n",
    "데이터 배경\n",
    "- 수집 배경 : 데이터가 어떤 bias를 바탕으로 수집되어 있는 것인가 (ex 인터넷, 전화, 면접)\n",
    "- 데이터 소스를 바탕으로 더 풍족한 데이터 얻을 수 있음\n",
    "- 시공간 배경 : 데이터가 수집된 시간과 공간을 바탕으로 외부데이터를 붙일 수 있음 (ex 시간 - 당시의 유동인구, 당월의 날씨, 당해 GDP 등, 공간 - 지역의 정당 지지율, 그 나라의 GDP 등)\n"
   ]
  },
  {
   "cell_type": "markdown",
   "metadata": {},
   "source": [
    "## 일변량 분석\n",
    "\n",
    "데이터의 개괄 확인\n",
    "\n",
    "- 데이터 (행 또는 열) 크기 : 데이터가 큰 경우 random sampling 또는 cluster sampling 으로 줄여 분석\n",
    "- 데이터 key 확인\n",
    "\n",
    "데이터 결측치 확인\n",
    "\n",
    "- 결측치가 발견시 : drop 또는 imputation\n",
    "- 결측치 그 자체가 데이터가 될 수 도 있다.\n",
    "\n",
    " \n",
    "자료 형태 확인\n",
    "\n",
    "- 통계적 자료 형태 : 명목형, 순서형, 수치형, 비율형\n",
    "- 컴퓨터 자료 구조 파악: string, integer(python), factor, vector(R) 등\n",
    "\n",
    " \n",
    "데이터의 대표값 확인\n",
    "\n",
    "- 변수별 scale 확인 : mean, median, sd 등\n",
    "\n",
    "데이터의 분포도 확인\n",
    "\n",
    "- 수치화 : 분위수, 표준편차 등을 확인 해보자\n",
    "- 시각화 : 박스플룻, 히스토그램 등 \n",
    "    - 분포가 너무 크거나 특수한 패턴이 발견된다면 군집 분석 등의 방법을 사용\n",
    "- 범주형 자료의 경우 범주의 유형별 카운트\n",
    "  - 범주 하나가 너무 많은 경우 sparse data라고 하며 분석에 영향을 미친다. \n",
    "\n",
    "\n",
    "outlier 확인\n",
    "- 아웃라이어는 많은 계열의 머신러닝 알고리즘에 악영향 \n",
    "- outlier 처리 방법 : 어떠한 방식을 하던 아웃라이어에 대한 개별분석은 필수\n",
    "    - 제거\n",
    "    - 따로 떼어내어 분석\n",
    "    - outlier에 robust한 특수한 알고리즘을 사용 (ex tree는 outlier 상관 없음)"
   ]
  },
  {
   "cell_type": "markdown",
   "metadata": {},
   "source": [
    "## 이변량 분석\n",
    "\n",
    "연속 & 연속\n",
    "\n",
    "- 수치화 : 상관계수를 보는 것이 기본이지만 상관계수는 어디까지나 선형적 관계성만 분석함\n",
    "- 시각화 : 산점도, (변수가 많을 경우) 히트맵, pairwise 산점도\n",
    "  - 변수가 많을 수록 직관적이지 않으므로 필요한 두변수를 골라 산점도 비교\n",
    "\n",
    "범주 & 연속\n",
    "\n",
    "- 수치화 : groupby 또는 pivot_table 활용\n",
    "- 시각화 : 막대그림, pairwise boxplot(막대그림에 더해 그룹 내 자료들의 분포까지 확인 가능)\n",
    "\n",
    "\n",
    "다변량 시각화\n",
    "\n",
    "- z축, 색, 모양, 크기로 다차원 가능하나, 직관을 얻기에는 어려움다는 통계적 직관을 얻기는 어려움에 유의하자."
   ]
  },
  {
   "cell_type": "markdown",
   "metadata": {},
   "source": [
    "## 특수 분석 (EDA 넘어의 이야기)\n",
    "\n",
    "개별 분야의 특성에 따라 유의하며 사용\n",
    "\n",
    "### 범주형 데이터 처리\n",
    "\n",
    "- 범주형 통계 분석 기법 활용\n",
    "\n",
    "\n",
    "- 임베딩 기법\n",
    "  - 범주형 자료를 연속형 자료로 매핑해주는 방식\n",
    "  - 범주가 적을 경우 : 단순히 one-hot encoding\n",
    "  - 범주가 많을 경우 (효율적이지만 비직관적이고 어려운 방식) : 타깃 인코딩, MCA, 딥러닝 등\n",
    "\n",
    "- 군집분석\n",
    "  - 범주의 수가 많은 경우 여러개의 범주를 합쳐 적은 수의 범주로 만든 후 군집 분석\n",
    "  - 쉽고 직관적이지만 효율적이지는 못할 수 있음\n",
    "\n",
    "\n",
    "\n",
    "### 시계열 데이터 분석\n",
    "\n",
    "- 시각화 : 시간에 따른 각 변수들의 변화 추이를 확인\n",
    "  - 시계열 그림이 알아보기 힘들 경우 : smoothness 기법 등을 사용\n",
    "  \n",
    "### 공간 데이터 분석\n",
    "\n",
    "- 시각화 : 지도 위에도 점이나 막대 그래프, 파이 그래프 등을 사용\n",
    "\n",
    "### 텍스트 데이터 분석\n",
    "\n",
    "- 전처리 : 텍스트 마이닝 기법을 이용해서 빈도 행렬, tf-idf 행렬, 임베딩 등의 전처리를 시행\n",
    "- 시각화 : 워드 클라우드, 네트워크 그림 등"
   ]
  },
  {
   "cell_type": "markdown",
   "metadata": {},
   "source": [
    "## tools\n",
    "\n",
    "- 마크다운 편집기 : [typora](https://typora.io/)\n",
    "\n",
    "- 파이썬 시각화 패키지 : [Seaborn](https://seaborn.pydata.org/index.html), [bokeh](https://docs.bokeh.org/en/latest/index.html) (인터렉티브 플룻에 강점을 가지고 있음)\n",
    "\n",
    "- R 시각화 패키지 : [ggplot2](https://ggplot2.tidyverse.org/) , [plotly](https://dash-gallery.plotly.host/Portal/), [folium](https://python-visualization.github.io/folium/)\n",
    "\n",
    "- R 어플리케이션 개발 패키지 : [Shiny](https://shiny.rstudio.com/)\n",
    "\n",
    "- 무료 그래픽 핸들링 사이트 : [Pixlr](https://pixlr.com/kr/editor/)\n",
    "\n",
    "- 지도 시각화 툴 : [QGIS](https://qgis.org/ko/site/)\n",
    "\n",
    "- 네트워크 시각화 툴 : [Gephi](https://gephi.org/) (물리엔진 사용)\n",
    "\n",
    "- 깃헙 블로그 개발 툴 : [Jekyll](https://jekyllrb.com/)\n",
    "\n",
    "- 무료 아이콘 공유 사이트 : [thenounproject](https://thenounproject.com/)\n"
   ]
  },
  {
   "cell_type": "markdown",
   "metadata": {},
   "source": [
    "## 발표 tips\n",
    "\n",
    "- 당락을 가르는 것은 사실 성능이나 분석기법의 난이도보다는 발표\n",
    "\n",
    "- 관심 있는 것은 오직 이 프로젝트가 무엇이며(아이디어) 돈을 얼마나 뽑아낼 수 있으며(비전) 성능은 얼마나 되는지(성능)이다. 따라서 분석에 있어서 시간을 가장 많이 투자한 EDA 부분은 오히려 발표시간 때는 최소가 되곤 한다. \n",
    "\n",
    "- 결국 **아이디어**, **비전**, **성능**은 프로젝트를 진행할때 가장 중심으로 삼아야 할 3대 목표가 된다.\n",
    "  \n",
    "\n",
    "- 프로젝트의 핵심\n",
    "\n",
    "  - 프로젝트가 충분히 창의적인가?\n",
    "  - 프로젝트는 충분히 비전이 있는가?\n",
    "  - 프로젝트의 완성도는 충분히 높은가?\n",
    "\n",
    "\n",
    "- 발표의 핵심\n",
    "\n",
    "  - 주제를 명확하게 파악할 수 있게 할것\n",
    "  - 시각화를 적극적으로 활용할 것\n",
    "  - 강약을 조절하여 발표의 하이라이트를 극적으로 보여줄 것\n",
    "  - 평가자 혹은 청자의 특징을 파악할 것"
   ]
  }
 ],
 "metadata": {
  "kernelspec": {
   "display_name": "Python 3",
   "language": "python",
   "name": "python3"
  },
  "language_info": {
   "codemirror_mode": {
    "name": "ipython",
    "version": 3
   },
   "file_extension": ".py",
   "mimetype": "text/x-python",
   "name": "python",
   "nbconvert_exporter": "python",
   "pygments_lexer": "ipython3",
   "version": "3.7.7"
  },
  "toc": {
   "base_numbering": 1,
   "nav_menu": {},
   "number_sections": true,
   "sideBar": true,
   "skip_h1_title": false,
   "title_cell": "Table of Contents",
   "title_sidebar": "Contents",
   "toc_cell": false,
   "toc_position": {},
   "toc_section_display": true,
   "toc_window_display": false
  },
  "varInspector": {
   "cols": {
    "lenName": 16,
    "lenType": 16,
    "lenVar": 40
   },
   "kernels_config": {
    "python": {
     "delete_cmd_postfix": "",
     "delete_cmd_prefix": "del ",
     "library": "var_list.py",
     "varRefreshCmd": "print(var_dic_list())"
    },
    "r": {
     "delete_cmd_postfix": ") ",
     "delete_cmd_prefix": "rm(",
     "library": "var_list.r",
     "varRefreshCmd": "cat(var_dic_list()) "
    }
   },
   "types_to_exclude": [
    "module",
    "function",
    "builtin_function_or_method",
    "instance",
    "_Feature"
   ],
   "window_display": false
  }
 },
 "nbformat": 4,
 "nbformat_minor": 2
}
